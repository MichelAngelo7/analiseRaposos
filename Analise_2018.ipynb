{
 "cells": [
  {
   "cell_type": "code",
   "execution_count": 1,
   "metadata": {},
   "outputs": [],
   "source": [
    "import pandas as pd\n",
    "import seaborn as srn\n",
    "import statistics as sts"
   ]
  },
  {
   "cell_type": "code",
   "execution_count": 2,
   "metadata": {},
   "outputs": [],
   "source": [
    "dataset = pd.read_csv(\"./dados/Despesas_Credor_2018.csv\", sep=';')"
   ]
  },
  {
   "cell_type": "code",
   "execution_count": 3,
   "metadata": {},
   "outputs": [
    {
     "data": {
      "text/html": [
       "<div>\n",
       "<style scoped>\n",
       "    .dataframe tbody tr th:only-of-type {\n",
       "        vertical-align: middle;\n",
       "    }\n",
       "\n",
       "    .dataframe tbody tr th {\n",
       "        vertical-align: top;\n",
       "    }\n",
       "\n",
       "    .dataframe thead th {\n",
       "        text-align: right;\n",
       "    }\n",
       "</style>\n",
       "<table border=\"1\" class=\"dataframe\">\n",
       "  <thead>\n",
       "    <tr style=\"text-align: right;\">\n",
       "      <th></th>\n",
       "      <th>Exportado em: 11/09/2020</th>\n",
       "      <th>Unnamed: 1</th>\n",
       "      <th>Unnamed: 2</th>\n",
       "      <th>Unnamed: 3</th>\n",
       "      <th>Unnamed: 4</th>\n",
       "      <th>Unnamed: 5</th>\n",
       "      <th>Unnamed: 6</th>\n",
       "      <th>Unnamed: 7</th>\n",
       "      <th>Transparência Fly</th>\n",
       "      <th>Unnamed: 9</th>\n",
       "    </tr>\n",
       "  </thead>\n",
       "  <tbody>\n",
       "    <tr>\n",
       "      <th>0</th>\n",
       "      <td>Raposos - MG</td>\n",
       "      <td>NaN</td>\n",
       "      <td>NaN</td>\n",
       "      <td>NaN</td>\n",
       "      <td>NaN</td>\n",
       "      <td>NaN</td>\n",
       "      <td>NaN</td>\n",
       "      <td>NaN</td>\n",
       "      <td>NaN</td>\n",
       "      <td>NaN</td>\n",
       "    </tr>\n",
       "    <tr>\n",
       "      <th>1</th>\n",
       "      <td>PREFEITURA MUNICIPAL DE RAPOSOS</td>\n",
       "      <td>NaN</td>\n",
       "      <td>NaN</td>\n",
       "      <td>NaN</td>\n",
       "      <td>NaN</td>\n",
       "      <td>NaN</td>\n",
       "      <td>NaN</td>\n",
       "      <td>NaN</td>\n",
       "      <td>NaN</td>\n",
       "      <td>NaN</td>\n",
       "    </tr>\n",
       "    <tr>\n",
       "      <th>2</th>\n",
       "      <td>Despesas por credor</td>\n",
       "      <td>NaN</td>\n",
       "      <td>NaN</td>\n",
       "      <td>NaN</td>\n",
       "      <td>NaN</td>\n",
       "      <td>Última atualização: 11/09/2020 11:39:36</td>\n",
       "      <td>NaN</td>\n",
       "      <td>NaN</td>\n",
       "      <td>NaN</td>\n",
       "      <td>NaN</td>\n",
       "    </tr>\n",
       "    <tr>\n",
       "      <th>3</th>\n",
       "      <td>Filtros utilizados para elaboração da consulta...</td>\n",
       "      <td>NaN</td>\n",
       "      <td>NaN</td>\n",
       "      <td>NaN</td>\n",
       "      <td>NaN</td>\n",
       "      <td>NaN</td>\n",
       "      <td>NaN</td>\n",
       "      <td>NaN</td>\n",
       "      <td>NaN</td>\n",
       "      <td>NaN</td>\n",
       "    </tr>\n",
       "    <tr>\n",
       "      <th>4</th>\n",
       "      <td>Despesas por credor</td>\n",
       "      <td>NaN</td>\n",
       "      <td>NaN</td>\n",
       "      <td>NaN</td>\n",
       "      <td>NaN</td>\n",
       "      <td>NaN</td>\n",
       "      <td>NaN</td>\n",
       "      <td>NaN</td>\n",
       "      <td>NaN</td>\n",
       "      <td>NaN</td>\n",
       "    </tr>\n",
       "  </tbody>\n",
       "</table>\n",
       "</div>"
      ],
      "text/plain": [
       "                            Exportado em: 11/09/2020 Unnamed: 1 Unnamed: 2  \\\n",
       "0                                       Raposos - MG        NaN        NaN   \n",
       "1                    PREFEITURA MUNICIPAL DE RAPOSOS        NaN        NaN   \n",
       "2                                Despesas por credor        NaN        NaN   \n",
       "3  Filtros utilizados para elaboração da consulta...        NaN        NaN   \n",
       "4                                Despesas por credor        NaN        NaN   \n",
       "\n",
       "  Unnamed: 3 Unnamed: 4                               Unnamed: 5 Unnamed: 6  \\\n",
       "0        NaN        NaN                                      NaN        NaN   \n",
       "1        NaN        NaN                                      NaN        NaN   \n",
       "2        NaN        NaN  Última atualização: 11/09/2020 11:39:36        NaN   \n",
       "3        NaN        NaN                                      NaN        NaN   \n",
       "4        NaN        NaN                                      NaN        NaN   \n",
       "\n",
       "  Unnamed: 7  Transparência Fly Unnamed: 9  \n",
       "0        NaN                NaN        NaN  \n",
       "1        NaN                NaN        NaN  \n",
       "2        NaN                NaN        NaN  \n",
       "3        NaN                NaN        NaN  \n",
       "4        NaN                NaN        NaN  "
      ]
     },
     "execution_count": 3,
     "metadata": {},
     "output_type": "execute_result"
    }
   ],
   "source": [
    "dataset.head()"
   ]
  },
  {
   "cell_type": "code",
   "execution_count": 4,
   "metadata": {},
   "outputs": [
    {
     "data": {
      "text/plain": [
       "(659, 10)"
      ]
     },
     "execution_count": 4,
     "metadata": {},
     "output_type": "execute_result"
    }
   ],
   "source": [
    "dataset.shape"
   ]
  },
  {
   "cell_type": "code",
   "execution_count": 5,
   "metadata": {},
   "outputs": [],
   "source": [
    "dataset = dataset.drop([0,1,2,3,4,5,658])"
   ]
  },
  {
   "cell_type": "code",
   "execution_count": 6,
   "metadata": {},
   "outputs": [
    {
     "data": {
      "text/html": [
       "<div>\n",
       "<style scoped>\n",
       "    .dataframe tbody tr th:only-of-type {\n",
       "        vertical-align: middle;\n",
       "    }\n",
       "\n",
       "    .dataframe tbody tr th {\n",
       "        vertical-align: top;\n",
       "    }\n",
       "\n",
       "    .dataframe thead th {\n",
       "        text-align: right;\n",
       "    }\n",
       "</style>\n",
       "<table border=\"1\" class=\"dataframe\">\n",
       "  <thead>\n",
       "    <tr style=\"text-align: right;\">\n",
       "      <th></th>\n",
       "      <th>Exportado em: 11/09/2020</th>\n",
       "      <th>Unnamed: 1</th>\n",
       "      <th>Unnamed: 2</th>\n",
       "      <th>Unnamed: 3</th>\n",
       "      <th>Unnamed: 4</th>\n",
       "      <th>Unnamed: 5</th>\n",
       "      <th>Unnamed: 6</th>\n",
       "      <th>Unnamed: 7</th>\n",
       "      <th>Transparência Fly</th>\n",
       "      <th>Unnamed: 9</th>\n",
       "    </tr>\n",
       "  </thead>\n",
       "  <tbody>\n",
       "    <tr>\n",
       "      <th>6</th>\n",
       "      <td>3 PODERES COMERCIO LTDA ME</td>\n",
       "      <td>557,60</td>\n",
       "      <td>0,00</td>\n",
       "      <td>40,80</td>\n",
       "      <td>0,00</td>\n",
       "      <td>NaN</td>\n",
       "      <td>0,00</td>\n",
       "      <td>598,40</td>\n",
       "      <td>NaN</td>\n",
       "      <td>0,00</td>\n",
       "    </tr>\n",
       "    <tr>\n",
       "      <th>7</th>\n",
       "      <td>ACACIA COMERCIO DE MEDICAMENTOS LTDA</td>\n",
       "      <td>158.800,60</td>\n",
       "      <td>34.998,33</td>\n",
       "      <td>68.520,19</td>\n",
       "      <td>220.267,91</td>\n",
       "      <td>NaN</td>\n",
       "      <td>0,00</td>\n",
       "      <td>227.320,79</td>\n",
       "      <td>NaN</td>\n",
       "      <td>255.266,24</td>\n",
       "    </tr>\n",
       "    <tr>\n",
       "      <th>8</th>\n",
       "      <td>ACCUMED PRODUTOS MEDICO HOSPITALARES LTDA</td>\n",
       "      <td>0,00</td>\n",
       "      <td>0,00</td>\n",
       "      <td>700,00</td>\n",
       "      <td>0,00</td>\n",
       "      <td>NaN</td>\n",
       "      <td>0,00</td>\n",
       "      <td>700,00</td>\n",
       "      <td>NaN</td>\n",
       "      <td>0,00</td>\n",
       "    </tr>\n",
       "    <tr>\n",
       "      <th>9</th>\n",
       "      <td>ACTCON COMÉRCIO DE PRODUTOS DE INFORMÁTI</td>\n",
       "      <td>5.775,00</td>\n",
       "      <td>525,00</td>\n",
       "      <td>525,00</td>\n",
       "      <td>0,00</td>\n",
       "      <td>NaN</td>\n",
       "      <td>0,00</td>\n",
       "      <td>6.300,00</td>\n",
       "      <td>NaN</td>\n",
       "      <td>525,00</td>\n",
       "    </tr>\n",
       "    <tr>\n",
       "      <th>10</th>\n",
       "      <td>ADÃO CESÁRIO RAMOS</td>\n",
       "      <td>0,00</td>\n",
       "      <td>3.048,04</td>\n",
       "      <td>0,00</td>\n",
       "      <td>0,00</td>\n",
       "      <td>NaN</td>\n",
       "      <td>0,00</td>\n",
       "      <td>0,00</td>\n",
       "      <td>NaN</td>\n",
       "      <td>3.048,04</td>\n",
       "    </tr>\n",
       "  </tbody>\n",
       "</table>\n",
       "</div>"
      ],
      "text/plain": [
       "                     Exportado em: 11/09/2020  Unnamed: 1 Unnamed: 2  \\\n",
       "6                  3 PODERES COMERCIO LTDA ME      557,60       0,00   \n",
       "7        ACACIA COMERCIO DE MEDICAMENTOS LTDA  158.800,60  34.998,33   \n",
       "8   ACCUMED PRODUTOS MEDICO HOSPITALARES LTDA        0,00       0,00   \n",
       "9    ACTCON COMÉRCIO DE PRODUTOS DE INFORMÁTI    5.775,00     525,00   \n",
       "10                         ADÃO CESÁRIO RAMOS        0,00   3.048,04   \n",
       "\n",
       "   Unnamed: 3  Unnamed: 4 Unnamed: 5 Unnamed: 6  Unnamed: 7  \\\n",
       "6       40,80        0,00        NaN       0,00      598,40   \n",
       "7   68.520,19  220.267,91        NaN       0,00  227.320,79   \n",
       "8      700,00        0,00        NaN       0,00      700,00   \n",
       "9      525,00        0,00        NaN       0,00    6.300,00   \n",
       "10       0,00        0,00        NaN       0,00        0,00   \n",
       "\n",
       "    Transparência Fly  Unnamed: 9  \n",
       "6                 NaN        0,00  \n",
       "7                 NaN  255.266,24  \n",
       "8                 NaN        0,00  \n",
       "9                 NaN      525,00  \n",
       "10                NaN    3.048,04  "
      ]
     },
     "execution_count": 6,
     "metadata": {},
     "output_type": "execute_result"
    }
   ],
   "source": [
    "dataset.head()"
   ]
  },
  {
   "cell_type": "code",
   "execution_count": 7,
   "metadata": {},
   "outputs": [],
   "source": [
    "dataset.columns = ['creador', 'Pagamentos do ano (a) (R$)', 'Saldo a pagar do ano (b) (R$)', 'Pagamento de restos (c) (R$)',\n",
    "                   'Saldo de restos a pagar (d) (R$)','Sem nome 1','Cancelamento de restos (R$)', \n",
    "                   'Pagamento total (a + c) (R$)','Sem Nome 2','Saldo a pagar (b + d) (R$)']"
   ]
  },
  {
   "cell_type": "code",
   "execution_count": 8,
   "metadata": {},
   "outputs": [
    {
     "data": {
      "text/html": [
       "<div>\n",
       "<style scoped>\n",
       "    .dataframe tbody tr th:only-of-type {\n",
       "        vertical-align: middle;\n",
       "    }\n",
       "\n",
       "    .dataframe tbody tr th {\n",
       "        vertical-align: top;\n",
       "    }\n",
       "\n",
       "    .dataframe thead th {\n",
       "        text-align: right;\n",
       "    }\n",
       "</style>\n",
       "<table border=\"1\" class=\"dataframe\">\n",
       "  <thead>\n",
       "    <tr style=\"text-align: right;\">\n",
       "      <th></th>\n",
       "      <th>creador</th>\n",
       "      <th>Pagamentos do ano (a) (R$)</th>\n",
       "      <th>Saldo a pagar do ano (b) (R$)</th>\n",
       "      <th>Pagamento de restos (c) (R$)</th>\n",
       "      <th>Saldo de restos a pagar (d) (R$)</th>\n",
       "      <th>Sem nome 1</th>\n",
       "      <th>Cancelamento de restos (R$)</th>\n",
       "      <th>Pagamento total (a + c) (R$)</th>\n",
       "      <th>Sem Nome 2</th>\n",
       "      <th>Saldo a pagar (b + d) (R$)</th>\n",
       "    </tr>\n",
       "  </thead>\n",
       "  <tbody>\n",
       "    <tr>\n",
       "      <th>6</th>\n",
       "      <td>3 PODERES COMERCIO LTDA ME</td>\n",
       "      <td>557,60</td>\n",
       "      <td>0,00</td>\n",
       "      <td>40,80</td>\n",
       "      <td>0,00</td>\n",
       "      <td>NaN</td>\n",
       "      <td>0,00</td>\n",
       "      <td>598,40</td>\n",
       "      <td>NaN</td>\n",
       "      <td>0,00</td>\n",
       "    </tr>\n",
       "    <tr>\n",
       "      <th>7</th>\n",
       "      <td>ACACIA COMERCIO DE MEDICAMENTOS LTDA</td>\n",
       "      <td>158.800,60</td>\n",
       "      <td>34.998,33</td>\n",
       "      <td>68.520,19</td>\n",
       "      <td>220.267,91</td>\n",
       "      <td>NaN</td>\n",
       "      <td>0,00</td>\n",
       "      <td>227.320,79</td>\n",
       "      <td>NaN</td>\n",
       "      <td>255.266,24</td>\n",
       "    </tr>\n",
       "    <tr>\n",
       "      <th>8</th>\n",
       "      <td>ACCUMED PRODUTOS MEDICO HOSPITALARES LTDA</td>\n",
       "      <td>0,00</td>\n",
       "      <td>0,00</td>\n",
       "      <td>700,00</td>\n",
       "      <td>0,00</td>\n",
       "      <td>NaN</td>\n",
       "      <td>0,00</td>\n",
       "      <td>700,00</td>\n",
       "      <td>NaN</td>\n",
       "      <td>0,00</td>\n",
       "    </tr>\n",
       "    <tr>\n",
       "      <th>9</th>\n",
       "      <td>ACTCON COMÉRCIO DE PRODUTOS DE INFORMÁTI</td>\n",
       "      <td>5.775,00</td>\n",
       "      <td>525,00</td>\n",
       "      <td>525,00</td>\n",
       "      <td>0,00</td>\n",
       "      <td>NaN</td>\n",
       "      <td>0,00</td>\n",
       "      <td>6.300,00</td>\n",
       "      <td>NaN</td>\n",
       "      <td>525,00</td>\n",
       "    </tr>\n",
       "    <tr>\n",
       "      <th>10</th>\n",
       "      <td>ADÃO CESÁRIO RAMOS</td>\n",
       "      <td>0,00</td>\n",
       "      <td>3.048,04</td>\n",
       "      <td>0,00</td>\n",
       "      <td>0,00</td>\n",
       "      <td>NaN</td>\n",
       "      <td>0,00</td>\n",
       "      <td>0,00</td>\n",
       "      <td>NaN</td>\n",
       "      <td>3.048,04</td>\n",
       "    </tr>\n",
       "  </tbody>\n",
       "</table>\n",
       "</div>"
      ],
      "text/plain": [
       "                                      creador Pagamentos do ano (a) (R$)  \\\n",
       "6                  3 PODERES COMERCIO LTDA ME                     557,60   \n",
       "7        ACACIA COMERCIO DE MEDICAMENTOS LTDA                 158.800,60   \n",
       "8   ACCUMED PRODUTOS MEDICO HOSPITALARES LTDA                       0,00   \n",
       "9    ACTCON COMÉRCIO DE PRODUTOS DE INFORMÁTI                   5.775,00   \n",
       "10                         ADÃO CESÁRIO RAMOS                       0,00   \n",
       "\n",
       "   Saldo a pagar do ano (b) (R$) Pagamento de restos (c) (R$)  \\\n",
       "6                           0,00                        40,80   \n",
       "7                      34.998,33                    68.520,19   \n",
       "8                           0,00                       700,00   \n",
       "9                         525,00                       525,00   \n",
       "10                      3.048,04                         0,00   \n",
       "\n",
       "   Saldo de restos a pagar (d) (R$) Sem nome 1 Cancelamento de restos (R$)  \\\n",
       "6                              0,00        NaN                        0,00   \n",
       "7                        220.267,91        NaN                        0,00   \n",
       "8                              0,00        NaN                        0,00   \n",
       "9                              0,00        NaN                        0,00   \n",
       "10                             0,00        NaN                        0,00   \n",
       "\n",
       "   Pagamento total (a + c) (R$)  Sem Nome 2 Saldo a pagar (b + d) (R$)  \n",
       "6                        598,40         NaN                       0,00  \n",
       "7                    227.320,79         NaN                 255.266,24  \n",
       "8                        700,00         NaN                       0,00  \n",
       "9                      6.300,00         NaN                     525,00  \n",
       "10                         0,00         NaN                   3.048,04  "
      ]
     },
     "execution_count": 8,
     "metadata": {},
     "output_type": "execute_result"
    }
   ],
   "source": [
    "dataset.head()"
   ]
  },
  {
   "cell_type": "code",
   "execution_count": 9,
   "metadata": {},
   "outputs": [
    {
     "name": "stdout",
     "output_type": "stream",
     "text": [
      "<class 'pandas.core.frame.DataFrame'>\n",
      "Int64Index: 652 entries, 6 to 657\n",
      "Data columns (total 10 columns):\n",
      " #   Column                            Non-Null Count  Dtype  \n",
      "---  ------                            --------------  -----  \n",
      " 0   creador                           652 non-null    object \n",
      " 1   Pagamentos do ano (a) (R$)        652 non-null    object \n",
      " 2   Saldo a pagar do ano (b) (R$)     652 non-null    object \n",
      " 3   Pagamento de restos (c) (R$)      652 non-null    object \n",
      " 4   Saldo de restos a pagar (d) (R$)  652 non-null    object \n",
      " 5   Sem nome 1                        0 non-null      object \n",
      " 6   Cancelamento de restos (R$)       652 non-null    object \n",
      " 7   Pagamento total (a + c) (R$)      652 non-null    object \n",
      " 8   Sem Nome 2                        0 non-null      float64\n",
      " 9   Saldo a pagar (b + d) (R$)        652 non-null    object \n",
      "dtypes: float64(1), object(9)\n",
      "memory usage: 56.0+ KB\n"
     ]
    }
   ],
   "source": [
    "dataset.info()"
   ]
  },
  {
   "cell_type": "code",
   "execution_count": 10,
   "metadata": {},
   "outputs": [],
   "source": [
    "dataset['Pagamentos do ano (a) (R$)'] = dataset['Pagamentos do ano (a) (R$)'].apply(lambda x:str(x).replace('.',''))"
   ]
  },
  {
   "cell_type": "code",
   "execution_count": 11,
   "metadata": {},
   "outputs": [],
   "source": [
    "dataset['Pagamentos do ano (a) (R$)'] = dataset['Pagamentos do ano (a) (R$)'].apply(lambda x:str(x).replace('R$',''))"
   ]
  },
  {
   "cell_type": "code",
   "execution_count": 12,
   "metadata": {},
   "outputs": [
    {
     "data": {
      "text/plain": [
       "6         557,60\n",
       "7      158800,60\n",
       "8           0,00\n",
       "9        5775,00\n",
       "10          0,00\n",
       "         ...    \n",
       "653     63888,22\n",
       "654     36383,45\n",
       "655      2587,22\n",
       "656      2252,57\n",
       "657         0,00\n",
       "Name: Pagamentos do ano (a) (R$), Length: 652, dtype: object"
      ]
     },
     "execution_count": 12,
     "metadata": {},
     "output_type": "execute_result"
    }
   ],
   "source": [
    "dataset['Pagamentos do ano (a) (R$)']"
   ]
  },
  {
   "cell_type": "code",
   "execution_count": 13,
   "metadata": {},
   "outputs": [],
   "source": [
    "dataset['Pagamentos do ano (a) (R$)'] = dataset['Pagamentos do ano (a) (R$)'].apply(lambda x:str(x).replace(',','.'))"
   ]
  },
  {
   "cell_type": "code",
   "execution_count": 14,
   "metadata": {},
   "outputs": [
    {
     "data": {
      "text/plain": [
       "6         557.60\n",
       "7      158800.60\n",
       "8           0.00\n",
       "9        5775.00\n",
       "10          0.00\n",
       "         ...    \n",
       "653     63888.22\n",
       "654     36383.45\n",
       "655      2587.22\n",
       "656      2252.57\n",
       "657         0.00\n",
       "Name: Pagamentos do ano (a) (R$), Length: 652, dtype: object"
      ]
     },
     "execution_count": 14,
     "metadata": {},
     "output_type": "execute_result"
    }
   ],
   "source": [
    "dataset['Pagamentos do ano (a) (R$)']"
   ]
  },
  {
   "cell_type": "code",
   "execution_count": 15,
   "metadata": {},
   "outputs": [],
   "source": [
    "dataset['Pagamentos do ano (a) (R$)'] = dataset['Pagamentos do ano (a) (R$)'].astype('float')"
   ]
  },
  {
   "cell_type": "code",
   "execution_count": 16,
   "metadata": {},
   "outputs": [
    {
     "data": {
      "text/plain": [
       "count    6.520000e+02\n",
       "mean     4.112737e+04\n",
       "std      4.327123e+05\n",
       "min      0.000000e+00\n",
       "25%      0.000000e+00\n",
       "50%      1.224300e+03\n",
       "75%      1.185000e+04\n",
       "max      1.061989e+07\n",
       "Name: Pagamentos do ano (a) (R$), dtype: float64"
      ]
     },
     "execution_count": 16,
     "metadata": {},
     "output_type": "execute_result"
    }
   ],
   "source": [
    "dataset['Pagamentos do ano (a) (R$)'].describe()"
   ]
  },
  {
   "cell_type": "code",
   "execution_count": 17,
   "metadata": {},
   "outputs": [
    {
     "data": {
      "text/plain": [
       "Text(0.5, 1.0, 'Pagamentos do ano (a) (R$)')"
      ]
     },
     "execution_count": 17,
     "metadata": {},
     "output_type": "execute_result"
    },
    {
     "data": {
      "image/png": "[encoded data removed]",
      "text/plain": [
       "<Figure size 432x288 with 1 Axes>"
      ]
     },
     "metadata": {
      "needs_background": "light"
     },
     "output_type": "display_data"
    }
   ],
   "source": [
    "srn.boxplot(dataset['Pagamentos do ano (a) (R$)']).set_title('Pagamentos do ano (a) (R$)')"
   ]
  },
  {
   "cell_type": "code",
   "execution_count": 19,
   "metadata": {},
   "outputs": [
    {
     "data": {
      "text/plain": [
       "Text(0.5, 1.0, 'Pagamentos do ano (a) (R$)')"
      ]
     },
     "execution_count": 19,
     "metadata": {},
     "output_type": "execute_result"
    },
    {
     "data": {
      "image/png": "[encoded data removed]",
      "text/plain": [
       "<Figure size 432x288 with 1 Axes>"
      ]
     },
     "metadata": {
      "needs_background": "light"
     },
     "output_type": "display_data"
    }
   ],
   "source": [
    "srn.distplot(dataset['Pagamentos do ano (a) (R$)']).set_title('Pagamentos do ano (a) (R$)')"
   ]
  },
  {
   "cell_type": "code",
   "execution_count": 32,
   "metadata": {},
   "outputs": [
    {
     "data": {
      "text/plain": [
       "1224.3"
      ]
     },
     "execution_count": 32,
     "metadata": {},
     "output_type": "execute_result"
    }
   ],
   "source": [
    "mediana = sts.median(dataset['Pagamentos do ano (a) (R$)'])\n",
    "mediana"
   ]
  },
  {
   "cell_type": "code",
   "execution_count": 33,
   "metadata": {},
   "outputs": [],
   "source": [
    "dataset.loc[dataset['Pagamentos do ano (a) (R$)'] == 0, 'Pagamento do ano (a) (R$)']= mediana "
   ]
  },
  {
   "cell_type": "code",
   "execution_count": 34,
   "metadata": {},
   "outputs": [
    {
     "data": {
      "text/plain": [
       "Text(0.5, 1.0, 'Pagamentos do ano (a) (R$)')"
      ]
     },
     "execution_count": 34,
     "metadata": {},
     "output_type": "execute_result"
    },
    {
     "data": {
      "image/png": "[encoded data removed]",
      "text/plain": [
       "<Figure size 432x288 with 1 Axes>"
      ]
     },
     "metadata": {
      "needs_background": "light"
     },
     "output_type": "display_data"
    }
   ],
   "source": [
    "srn.boxplot(dataset['Pagamentos do ano (a) (R$)']).set_title('Pagamentos do ano (a) (R$)')"
   ]
  },
  {
   "cell_type": "code",
   "execution_count": 35,
   "metadata": {},
   "outputs": [
    {
     "data": {
      "text/plain": [
       "Text(0.5, 1.0, 'Pagamentos do ano (a) (R$)')"
      ]
     },
     "execution_count": 35,
     "metadata": {},
     "output_type": "execute_result"
    },
    {
     "data": {
      "image/png": "[encoded data removed]",
      "text/plain": [
       "<Figure size 432x288 with 1 Axes>"
      ]
     },
     "metadata": {
      "needs_background": "light"
     },
     "output_type": "display_data"
    }
   ],
   "source": [
    "srn.distplot(dataset['Pagamentos do ano (a) (R$)']).set_title('Pagamentos do ano (a) (R$)')"
   ]
  },
  {
   "cell_type": "code",
   "execution_count": null,
   "metadata": {},
   "outputs": [],
   "source": []
  },
  {
   "cell_type": "code",
   "execution_count": null,
   "metadata": {},
   "outputs": [],
   "source": []
  }
 ],
 "metadata": {
  "kernelspec": {
   "display_name": "Python 3",
   "language": "python",
   "name": "python3"
  },
  "language_info": {
   "codemirror_mode": {
    "name": "ipython",
    "version": 3
   },
   "file_extension": ".py",
   "mimetype": "text/x-python",
   "name": "python",
   "nbconvert_exporter": "python",
   "pygments_lexer": "ipython3",
   "version": "3.8.3"
  }
 },
 "nbformat": 4,
 "nbformat_minor": 4
}
